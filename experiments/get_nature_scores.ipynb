{
 "cells": [
  {
   "cell_type": "code",
   "execution_count": 1,
   "metadata": {},
   "outputs": [
    {
     "name": "stdout",
     "output_type": "stream",
     "text": [
      "/home/paperspace/mlproj2_new/ActMax-Optimizer-Dev\n"
     ]
    }
   ],
   "source": [
    "import torch\n",
    "import skimage\n",
    "import matplotlib.pyplot as plt\n",
    "import os\n",
    "from torchvision import models\n",
    "%cd ../"
   ]
  },
  {
   "cell_type": "code",
   "execution_count": 2,
   "metadata": {},
   "outputs": [],
   "source": [
    "import pandas as pd\n",
    "from tqdm import tqdm"
   ]
  },
  {
   "cell_type": "code",
   "execution_count": 3,
   "metadata": {},
   "outputs": [],
   "source": [
    "from core.insilico_exps import resize_and_pad_tsr\n",
    "from transformers.tf_exp import TransformerScorer, ImageLoader, ExpScores"
   ]
  },
  {
   "attachments": {},
   "cell_type": "markdown",
   "metadata": {},
   "source": [
    "### 1. vit_b_16 tench"
   ]
  },
  {
   "cell_type": "code",
   "execution_count": 4,
   "metadata": {},
   "outputs": [
    {
     "name": "stderr",
     "output_type": "stream",
     "text": [
      "100%|██████████| 963/963 [00:52<00:00, 18.39it/s]\n"
     ]
    }
   ],
   "source": [
    "# vit_b_16 Tench\n",
    "datapath = '../../Datasets/imagenette2/train/n01440764'\n",
    "model_unit = (\"vit_b_16\", \".heads.Linearhead\", 0)\n",
    "vit_b_16_scores = ExpScores(model_unit=model_unit, path=datapath)\n",
    "# Load the images\n",
    "vit_b_16_scores.load()\n",
    "# Get the scores\n",
    "scores = vit_b_16_scores.img_scores()\n",
    "# Save the scores to a csv\n",
    "scores_df = pd.DataFrame(scores, columns=['nature_scores'])\n",
    "scores_df.to_csv('./results/scores/nature/tench_vit_b_16_nature.csv')"
   ]
  },
  {
   "attachments": {},
   "cell_type": "markdown",
   "metadata": {},
   "source": [
    "### 2. vit_b_16 golf ball"
   ]
  },
  {
   "cell_type": "code",
   "execution_count": 6,
   "metadata": {},
   "outputs": [
    {
     "name": "stderr",
     "output_type": "stream",
     "text": [
      "100%|██████████| 951/951 [00:49<00:00, 19.36it/s]\n"
     ]
    }
   ],
   "source": [
    "# vit_b_16 golf ball\n",
    "datapath = '../../Datasets/imagenette2/train/n03445777'\n",
    "model_unit = (\"vit_b_16\", \".heads.Linearhead\", 574)\n",
    "vit_b_16_scores = ExpScores(model_unit=model_unit, path=datapath)\n",
    "# Load the images\n",
    "vit_b_16_scores.load()\n",
    "# Get the scores\n",
    "scores = vit_b_16_scores.img_scores()\n",
    "# Save the scores to a csv\n",
    "scores_df = pd.DataFrame(scores, columns=['nature_scores'])\n",
    "scores_df.to_csv('./results/scores/nature/golf_ball_vit_b_16_nature.csv')"
   ]
  },
  {
   "attachments": {},
   "cell_type": "markdown",
   "metadata": {},
   "source": [
    "### 3. vit_l_16 tench"
   ]
  },
  {
   "cell_type": "code",
   "execution_count": 7,
   "metadata": {},
   "outputs": [
    {
     "name": "stderr",
     "output_type": "stream",
     "text": [
      "100%|██████████| 963/963 [00:55<00:00, 17.31it/s]\n"
     ]
    }
   ],
   "source": [
    "# vit_l_16 Tench\n",
    "datapath = '../../Datasets/imagenette2/train/n01440764'\n",
    "model_unit = (\"vit_l_16\", \".heads.Linearhead\", 0)\n",
    "vit_l_16_scores = ExpScores(model_unit=model_unit, path=datapath)\n",
    "# Load the images\n",
    "vit_l_16_scores.load()\n",
    "# Get the scores\n",
    "scores = vit_l_16_scores.img_scores()\n",
    "# Save the scores to a csv\n",
    "scores_df = pd.DataFrame(scores, columns=['nature_scores'])\n",
    "scores_df.to_csv('./results/scores/nature/tench_vit_l_16_nature.csv')"
   ]
  },
  {
   "attachments": {},
   "cell_type": "markdown",
   "metadata": {},
   "source": [
    "### 4. vit_l_16 golf ball"
   ]
  },
  {
   "cell_type": "code",
   "execution_count": 8,
   "metadata": {},
   "outputs": [
    {
     "name": "stderr",
     "output_type": "stream",
     "text": [
      "100%|██████████| 951/951 [00:50<00:00, 18.82it/s]\n"
     ]
    }
   ],
   "source": [
    "# vit_l_16 golf ball\n",
    "datapath = '../../Datasets/imagenette2/train/n03445777'\n",
    "model_unit = (\"vit_l_16\", \".heads.Linearhead\", 574)\n",
    "vit_l_16_scores = ExpScores(model_unit=model_unit, path=datapath)\n",
    "# Load the images\n",
    "vit_l_16_scores.load()\n",
    "# Get the scores\n",
    "scores = vit_l_16_scores.img_scores()\n",
    "# Save the scores to a csv\n",
    "scores_df = pd.DataFrame(scores, columns=['nature_scores'])\n",
    "scores_df.to_csv('./results/scores/nature/golf_ball_vit_l_16_nature.csv')"
   ]
  },
  {
   "cell_type": "code",
   "execution_count": null,
   "metadata": {},
   "outputs": [],
   "source": []
  }
 ],
 "metadata": {
  "kernelspec": {
   "display_name": "Python 3",
   "language": "python",
   "name": "python3"
  },
  "language_info": {
   "codemirror_mode": {
    "name": "ipython",
    "version": 3
   },
   "file_extension": ".py",
   "mimetype": "text/x-python",
   "name": "python",
   "nbconvert_exporter": "python",
   "pygments_lexer": "ipython3",
   "version": "3.8.10 (default, Nov 26 2021, 20:14:08) \n[GCC 9.3.0]"
  },
  "orig_nbformat": 4,
  "vscode": {
   "interpreter": {
    "hash": "31f2aee4e71d21fbe5cf8b01ff0e069b9275f58929596ceb00d14d90e3e16cd6"
   }
  }
 },
 "nbformat": 4,
 "nbformat_minor": 2
}
