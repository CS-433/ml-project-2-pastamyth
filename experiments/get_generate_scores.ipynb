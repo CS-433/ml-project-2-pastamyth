{
 "cells": [
  {
   "cell_type": "code",
   "execution_count": 1,
   "metadata": {},
   "outputs": [
    {
     "name": "stdout",
     "output_type": "stream",
     "text": [
      "/home/paperspace/mlproj2_new/ActMax-Optimizer-Dev\n"
     ]
    }
   ],
   "source": [
    "import torch\n",
    "%cd ../"
   ]
  },
  {
   "cell_type": "code",
   "execution_count": 12,
   "metadata": {},
   "outputs": [],
   "source": [
    "from transformers.tf_exp import ExpScores, ImageLoader\n",
    "import pandas as pd"
   ]
  },
  {
   "attachments": {},
   "cell_type": "markdown",
   "metadata": {},
   "source": [
    "### 1. vit_b_16 tench"
   ]
  },
  {
   "cell_type": "code",
   "execution_count": 3,
   "metadata": {},
   "outputs": [],
   "source": [
    "# vit_b_16 tench\n",
    "model_unit_1 = (\"vit_b_16\", \".heads.Linearhead\", 0)\n",
    "vit_b_16_tench = ExpScores(model_unit=model_unit_1)"
   ]
  },
  {
   "cell_type": "code",
   "execution_count": 4,
   "metadata": {},
   "outputs": [
    {
     "name": "stderr",
     "output_type": "stream",
     "text": [
      "100%|██████████| 50/50 [00:00<00:00, 100.45it/s]\n"
     ]
    },
    {
     "data": {
      "text/plain": [
       "torch.Size([50, 3, 224, 224])"
      ]
     },
     "execution_count": 4,
     "metadata": {},
     "output_type": "execute_result"
    }
   ],
   "source": [
    "# Load the syn images\n",
    "vit_b_16_tench_path = './results/evolutions/vit_b_16/tench'\n",
    "vit_b_16_tench_loader = ImageLoader(datapath=vit_b_16_tench_path)\n",
    "vit_b_16_tench_loader.load()\n",
    "vit_b_16_tench_imgs = vit_b_16_tench_loader.imgs\n",
    "vit_b_16_tench_imgs.shape"
   ]
  },
  {
   "cell_type": "code",
   "execution_count": 10,
   "metadata": {},
   "outputs": [],
   "source": [
    "# Calculate the scores\n",
    "vit_b_16_tench_scores = []\n",
    "for img in vit_b_16_tench_imgs:\n",
    "    vit_b_16_tench_scores.append(vit_b_16_tench.syn_scores(img / 225.))"
   ]
  },
  {
   "cell_type": "code",
   "execution_count": 13,
   "metadata": {},
   "outputs": [],
   "source": [
    "# Save the scores into a csv file\n",
    "vit_b_16_tench_df = pd.DataFrame(vit_b_16_tench_scores, columns=['syn_scores'])\n",
    "vit_b_16_tench_df.to_csv('./results/scores/syn/tench_vit_b_16_syn.csv')"
   ]
  },
  {
   "attachments": {},
   "cell_type": "markdown",
   "metadata": {},
   "source": [
    "### 2. vit_b_16 golf ball"
   ]
  },
  {
   "cell_type": "code",
   "execution_count": 14,
   "metadata": {},
   "outputs": [],
   "source": [
    "# vit_b_16 golf ball\n",
    "model_unit_2 = (\"vit_b_16\", \".heads.Linearhead\", 574)\n",
    "vit_b_16_golf_ball = ExpScores(model_unit=model_unit_2)"
   ]
  },
  {
   "cell_type": "code",
   "execution_count": 15,
   "metadata": {},
   "outputs": [
    {
     "name": "stderr",
     "output_type": "stream",
     "text": [
      "100%|██████████| 50/50 [00:00<00:00, 154.32it/s]\n"
     ]
    },
    {
     "data": {
      "text/plain": [
       "torch.Size([50, 3, 224, 224])"
      ]
     },
     "execution_count": 15,
     "metadata": {},
     "output_type": "execute_result"
    }
   ],
   "source": [
    "# Load the syn images\n",
    "vit_b_16_golf_ball_path = './results/evolutions/vit_b_16/golf_ball'\n",
    "vit_b_16_golf_ball_loader = ImageLoader(datapath=vit_b_16_golf_ball_path)\n",
    "vit_b_16_golf_ball_loader.load()\n",
    "vit_b_16_golf_ball_imgs = vit_b_16_golf_ball_loader.imgs\n",
    "vit_b_16_golf_ball_imgs.shape"
   ]
  },
  {
   "cell_type": "code",
   "execution_count": 17,
   "metadata": {},
   "outputs": [],
   "source": [
    "# Calculate the scores\n",
    "vit_b_16_golf_ball_scores = []\n",
    "for img in vit_b_16_golf_ball_imgs:\n",
    "    vit_b_16_golf_ball_scores.append(vit_b_16_golf_ball.syn_scores(img / 225.))"
   ]
  },
  {
   "cell_type": "code",
   "execution_count": 18,
   "metadata": {},
   "outputs": [],
   "source": [
    "# Save the scores into a csv file\n",
    "vit_b_16_golf_ball_df = pd.DataFrame(vit_b_16_golf_ball_scores, columns=['syn_scores'])\n",
    "vit_b_16_golf_ball_df.to_csv('./results/scores/syn/golf_ball_vit_b_16_syn.csv')"
   ]
  },
  {
   "attachments": {},
   "cell_type": "markdown",
   "metadata": {},
   "source": [
    "### 3. vit_l_16 tench"
   ]
  },
  {
   "cell_type": "code",
   "execution_count": 19,
   "metadata": {},
   "outputs": [],
   "source": [
    "# vit_l_16 tench\n",
    "model_unit_3 = (\"vit_l_16\", \".heads.Linearhead\", 0)\n",
    "vit_l_16_tench = ExpScores(model_unit=model_unit_3)"
   ]
  },
  {
   "cell_type": "code",
   "execution_count": 20,
   "metadata": {},
   "outputs": [
    {
     "name": "stderr",
     "output_type": "stream",
     "text": [
      "100%|██████████| 50/50 [00:00<00:00, 155.26it/s]\n"
     ]
    },
    {
     "data": {
      "text/plain": [
       "torch.Size([50, 3, 224, 224])"
      ]
     },
     "execution_count": 20,
     "metadata": {},
     "output_type": "execute_result"
    }
   ],
   "source": [
    "# Load the syn images\n",
    "vit_l_16_tench_path = './results/evolutions/vit_l_16/tench'\n",
    "vit_l_16_tench_loader = ImageLoader(datapath=vit_l_16_tench_path)\n",
    "vit_l_16_tench_loader.load()\n",
    "vit_l_16_tench_imgs = vit_l_16_tench_loader.imgs\n",
    "vit_l_16_tench_imgs.shape"
   ]
  },
  {
   "cell_type": "code",
   "execution_count": 21,
   "metadata": {},
   "outputs": [],
   "source": [
    "# Calculate the scores\n",
    "vit_l_16_tench_scores = []\n",
    "for img in vit_l_16_tench_imgs:\n",
    "    vit_l_16_tench_scores.append(vit_l_16_tench.syn_scores(img / 225.))"
   ]
  },
  {
   "cell_type": "code",
   "execution_count": 22,
   "metadata": {},
   "outputs": [],
   "source": [
    "# Save the scores into a csv file\n",
    "vit_l_16_tench_df = pd.DataFrame(vit_l_16_tench_scores, columns=['syn_scores'])\n",
    "vit_l_16_tench_df.to_csv('./results/scores/syn/tench_vit_l_16_syn.csv')"
   ]
  },
  {
   "attachments": {},
   "cell_type": "markdown",
   "metadata": {},
   "source": [
    "### 4. vit_l_16 golf ball"
   ]
  },
  {
   "cell_type": "code",
   "execution_count": 23,
   "metadata": {},
   "outputs": [],
   "source": [
    "# vit_l_16 golf ball\n",
    "model_unit_4 = (\"vit_l_16\", \".heads.Linearhead\", 574)\n",
    "vit_l_16_golf_ball = ExpScores(model_unit=model_unit_4)"
   ]
  },
  {
   "cell_type": "code",
   "execution_count": 24,
   "metadata": {},
   "outputs": [
    {
     "name": "stderr",
     "output_type": "stream",
     "text": [
      "100%|██████████| 50/50 [00:00<00:00, 155.72it/s]\n"
     ]
    },
    {
     "data": {
      "text/plain": [
       "torch.Size([50, 3, 224, 224])"
      ]
     },
     "execution_count": 24,
     "metadata": {},
     "output_type": "execute_result"
    }
   ],
   "source": [
    "# Load the syn images\n",
    "vit_l_16_golf_ball_path = './results/evolutions/vit_l_16/golf_ball'\n",
    "vit_l_16_golf_ball_loader = ImageLoader(datapath=vit_l_16_golf_ball_path)\n",
    "vit_l_16_golf_ball_loader.load()\n",
    "vit_l_16_golf_ball_imgs = vit_l_16_golf_ball_loader.imgs\n",
    "vit_l_16_golf_ball_imgs.shape"
   ]
  },
  {
   "cell_type": "code",
   "execution_count": 25,
   "metadata": {},
   "outputs": [],
   "source": [
    "# Calculate the scores\n",
    "vit_l_16_golf_ball_scores = []\n",
    "for img in vit_l_16_golf_ball_imgs:\n",
    "    vit_l_16_golf_ball_scores.append(vit_l_16_golf_ball.syn_scores(img / 225.))"
   ]
  },
  {
   "cell_type": "code",
   "execution_count": 26,
   "metadata": {},
   "outputs": [],
   "source": [
    "# Save the scores into a csv file\n",
    "vit_l_16_golf_ball_df = pd.DataFrame(vit_l_16_golf_ball_scores, columns=['syn_scores'])\n",
    "vit_l_16_golf_ball_df.to_csv('./results/scores/syn/golf_ball_vit_l_16_syn.csv')"
   ]
  },
  {
   "cell_type": "code",
   "execution_count": null,
   "metadata": {},
   "outputs": [],
   "source": []
  }
 ],
 "metadata": {
  "kernelspec": {
   "display_name": "Python 3",
   "language": "python",
   "name": "python3"
  },
  "language_info": {
   "codemirror_mode": {
    "name": "ipython",
    "version": 3
   },
   "file_extension": ".py",
   "mimetype": "text/x-python",
   "name": "python",
   "nbconvert_exporter": "python",
   "pygments_lexer": "ipython3",
   "version": "3.8.10 (default, Nov 26 2021, 20:14:08) \n[GCC 9.3.0]"
  },
  "orig_nbformat": 4,
  "vscode": {
   "interpreter": {
    "hash": "31f2aee4e71d21fbe5cf8b01ff0e069b9275f58929596ceb00d14d90e3e16cd6"
   }
  }
 },
 "nbformat": 4,
 "nbformat_minor": 2
}
