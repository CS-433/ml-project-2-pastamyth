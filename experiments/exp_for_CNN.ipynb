{
 "cells": [
  {
   "cell_type": "code",
   "execution_count": 1,
   "metadata": {},
   "outputs": [
    {
     "name": "stdout",
     "output_type": "stream",
     "text": [
      "/home/paperspace/mlproj2_new/ActMax-Optimizer-Dev\n"
     ]
    }
   ],
   "source": [
    "import torch\n",
    "import matplotlib.pyplot as plt\n",
    "import numpy as np\n",
    "import gc\n",
    "from tqdm import tqdm\n",
    "%cd ../"
   ]
  },
  {
   "attachments": {},
   "cell_type": "markdown",
   "metadata": {},
   "source": [
    "## 1. Nature of tench"
   ]
  },
  {
   "cell_type": "code",
   "execution_count": 17,
   "metadata": {},
   "outputs": [],
   "source": [
    "from transformers.tf_exp import ImageLoader\n",
    "from core.CNN_scorers import TorchScorer\n",
    "import pandas as pd"
   ]
  },
  {
   "cell_type": "code",
   "execution_count": 6,
   "metadata": {},
   "outputs": [
    {
     "name": "stderr",
     "output_type": "stream",
     "text": [
      "100%|██████████| 963/963 [00:55<00:00, 17.49it/s]\n"
     ]
    },
    {
     "data": {
      "text/plain": [
       "963"
      ]
     },
     "execution_count": 6,
     "metadata": {},
     "output_type": "execute_result"
    }
   ],
   "source": [
    "# alexnet Tench\n",
    "datapath = '../../Datasets/imagenette2/train/n01440764'\n",
    "model_unit = (\"alexnet\", \".classifier.Linear6\", 0)\n",
    "# load the image\n",
    "img_loader = ImageLoader(datapath)\n",
    "img_loader.load()"
   ]
  },
  {
   "cell_type": "code",
   "execution_count": 9,
   "metadata": {},
   "outputs": [],
   "source": [
    "# Define the model\n",
    "model = TorchScorer(model_name=model_unit[0])\n",
    "model.select_unit(model_unit)"
   ]
  },
  {
   "cell_type": "code",
   "execution_count": 16,
   "metadata": {},
   "outputs": [],
   "source": [
    "# Get the scores\n",
    "scores = model.score_tsr(img_loader.imgs / 255.)"
   ]
  },
  {
   "cell_type": "code",
   "execution_count": 18,
   "metadata": {},
   "outputs": [],
   "source": [
    "# Save the scores to a csv\n",
    "scores_df = pd.DataFrame(scores, columns=['nature_scores'])\n",
    "scores_df.to_csv('./results/scores/nature/tench_cnn_nature.csv')"
   ]
  },
  {
   "attachments": {},
   "cell_type": "markdown",
   "metadata": {},
   "source": [
    "## 2. Nature of Golf ball"
   ]
  },
  {
   "cell_type": "code",
   "execution_count": 21,
   "metadata": {},
   "outputs": [
    {
     "name": "stderr",
     "output_type": "stream",
     "text": [
      "100%|██████████| 951/951 [00:50<00:00, 18.77it/s]\n"
     ]
    },
    {
     "data": {
      "text/plain": [
       "927"
      ]
     },
     "execution_count": 21,
     "metadata": {},
     "output_type": "execute_result"
    }
   ],
   "source": [
    "# alexnet Golf ball\n",
    "datapath = '../../Datasets/imagenette2/train/n03445777'\n",
    "# load the image\n",
    "img_loader = ImageLoader(datapath)\n",
    "img_loader.load()"
   ]
  },
  {
   "cell_type": "code",
   "execution_count": 22,
   "metadata": {},
   "outputs": [],
   "source": [
    "# Define the model\n",
    "model_unit = (\"alexnet\", \".classifier.Linear6\", 574)\n",
    "model = TorchScorer(model_name=model_unit[0])\n",
    "model.select_unit(model_unit)"
   ]
  },
  {
   "cell_type": "code",
   "execution_count": 23,
   "metadata": {},
   "outputs": [],
   "source": [
    "# Get the scores\n",
    "scores = model.score_tsr(img_loader.imgs / 255.)\n",
    "# Save the scores to a csv\n",
    "scores_df = pd.DataFrame(scores, columns=['nature_scores'])\n",
    "scores_df.to_csv('./results/scores/nature/golf_ball_cnn_nature.csv')"
   ]
  },
  {
   "attachments": {},
   "cell_type": "markdown",
   "metadata": {},
   "source": [
    "## 3. Syn of Tench"
   ]
  },
  {
   "cell_type": "code",
   "execution_count": 26,
   "metadata": {},
   "outputs": [
    {
     "name": "stderr",
     "output_type": "stream",
     "text": [
      "100%|██████████| 50/50 [00:00<00:00, 146.97it/s]\n"
     ]
    },
    {
     "data": {
      "text/plain": [
       "torch.Size([50, 3, 224, 224])"
      ]
     },
     "execution_count": 26,
     "metadata": {},
     "output_type": "execute_result"
    }
   ],
   "source": [
    "# CNN tench\n",
    "# Load the synthetic images\n",
    "cnn_tench_path = './results/evolutions/alexnet/tench'\n",
    "cnn_tench_loader = ImageLoader(datapath=cnn_tench_path)\n",
    "cnn_tench_loader.load()\n",
    "cnn_tench_imgs = cnn_tench_loader.imgs\n",
    "cnn_tench_imgs.shape"
   ]
  },
  {
   "cell_type": "code",
   "execution_count": 27,
   "metadata": {},
   "outputs": [],
   "source": [
    "# Define the model\n",
    "model_unit = (\"alexnet\", \".classifier.Linear6\", 0)\n",
    "model = TorchScorer(model_name=model_unit[0])\n",
    "model.select_unit(model_unit)"
   ]
  },
  {
   "cell_type": "code",
   "execution_count": 28,
   "metadata": {},
   "outputs": [],
   "source": [
    "# Get the scores\n",
    "scores = model.score_tsr(cnn_tench_imgs / 255.)"
   ]
  },
  {
   "cell_type": "code",
   "execution_count": 30,
   "metadata": {},
   "outputs": [],
   "source": [
    "# Save the scores to a csv\n",
    "scores_df = pd.DataFrame(scores, columns=['syn_scores'])\n",
    "scores_df.to_csv('./results/scores/syn/tench_cnn.csv')"
   ]
  },
  {
   "attachments": {},
   "cell_type": "markdown",
   "metadata": {},
   "source": [
    "## 4. Syn of Golf ball"
   ]
  },
  {
   "cell_type": "code",
   "execution_count": 31,
   "metadata": {},
   "outputs": [
    {
     "name": "stderr",
     "output_type": "stream",
     "text": [
      "100%|██████████| 50/50 [00:01<00:00, 30.17it/s]\n"
     ]
    },
    {
     "data": {
      "text/plain": [
       "torch.Size([50, 3, 224, 224])"
      ]
     },
     "execution_count": 31,
     "metadata": {},
     "output_type": "execute_result"
    }
   ],
   "source": [
    "# CNN golf ball\n",
    "# Load the synthetic images\n",
    "cnn_golf_ball_path = './results/evolutions/alexnet/golf_ball'\n",
    "cnn_golf_ball_loader = ImageLoader(datapath=cnn_golf_ball_path)\n",
    "cnn_golf_ball_loader.load()\n",
    "cnn_golf_ball_imgs = cnn_golf_ball_loader.imgs\n",
    "cnn_golf_ball_imgs.shape"
   ]
  },
  {
   "cell_type": "code",
   "execution_count": 32,
   "metadata": {},
   "outputs": [],
   "source": [
    "# Define the model\n",
    "model_unit = (\"alexnet\", \".classifier.Linear6\", 574)\n",
    "model = TorchScorer(model_name=model_unit[0])\n",
    "model.select_unit(model_unit)"
   ]
  },
  {
   "cell_type": "code",
   "execution_count": 33,
   "metadata": {},
   "outputs": [],
   "source": [
    "# Get the scores\n",
    "scores = model.score_tsr(cnn_golf_ball_imgs / 255.)\n",
    "# Save the scores to a csv\n",
    "scores_df = pd.DataFrame(scores, columns=['syn_scores'])\n",
    "scores_df.to_csv('./results/scores/syn/golf_ball_cnn.csv')"
   ]
  },
  {
   "cell_type": "code",
   "execution_count": null,
   "metadata": {},
   "outputs": [],
   "source": []
  }
 ],
 "metadata": {
  "kernelspec": {
   "display_name": "Python 3",
   "language": "python",
   "name": "python3"
  },
  "language_info": {
   "codemirror_mode": {
    "name": "ipython",
    "version": 3
   },
   "file_extension": ".py",
   "mimetype": "text/x-python",
   "name": "python",
   "nbconvert_exporter": "python",
   "pygments_lexer": "ipython3",
   "version": "3.8.10"
  },
  "orig_nbformat": 4,
  "vscode": {
   "interpreter": {
    "hash": "31f2aee4e71d21fbe5cf8b01ff0e069b9275f58929596ceb00d14d90e3e16cd6"
   }
  }
 },
 "nbformat": 4,
 "nbformat_minor": 2
}
