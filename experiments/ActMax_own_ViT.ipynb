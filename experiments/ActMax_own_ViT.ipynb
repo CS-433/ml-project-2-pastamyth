{
 "cells": [
  {
   "cell_type": "code",
   "execution_count": 1,
   "metadata": {},
   "outputs": [
    {
     "name": "stdout",
     "output_type": "stream",
     "text": [
      "/home/paperspace/mlproj2_new/ActMax-Optimizer-Dev\n"
     ]
    }
   ],
   "source": [
    "import torch\n",
    "import skimage\n",
    "import matplotlib.pyplot as plt\n",
    "import numpy as np\n",
    "%cd ../"
   ]
  },
  {
   "cell_type": "code",
   "execution_count": 2,
   "metadata": {},
   "outputs": [],
   "source": [
    "from transformers.vit_model import VisionTransformer\n",
    "from transformers.tf_exp import TransformerEvolution\n",
    "from core.insilico_exps import resize_and_pad_tsr"
   ]
  },
  {
   "cell_type": "code",
   "execution_count": 3,
   "metadata": {},
   "outputs": [],
   "source": [
    "modelpath = './transformers/model.pt'"
   ]
  },
  {
   "cell_type": "code",
   "execution_count": 4,
   "metadata": {},
   "outputs": [],
   "source": [
    "model_dic = torch.load(modelpath)"
   ]
  },
  {
   "cell_type": "code",
   "execution_count": 5,
   "metadata": {},
   "outputs": [],
   "source": [
    "model_kwargs={'embed_dim': 256,\n",
    "'hidden_dim': 512,\n",
    "'num_heads': 8,\n",
    "'num_layers': 6,\n",
    "'patch_size': 4,\n",
    "'num_channels': 3,\n",
    "'num_patches': 64,\n",
    "'num_classes': 10,\n",
    "'dropout': 0.2}"
   ]
  },
  {
   "cell_type": "code",
   "execution_count": 6,
   "metadata": {},
   "outputs": [],
   "source": [
    "vit = VisionTransformer(**model_kwargs)"
   ]
  },
  {
   "cell_type": "code",
   "execution_count": 7,
   "metadata": {},
   "outputs": [
    {
     "data": {
      "text/plain": [
       "<All keys matched successfully>"
      ]
     },
     "execution_count": 7,
     "metadata": {},
     "output_type": "execute_result"
    }
   ],
   "source": [
    "vit.load_state_dict(model_dic)"
   ]
  },
  {
   "cell_type": "code",
   "execution_count": 8,
   "metadata": {},
   "outputs": [],
   "source": [
    "from transformers.tf_exp import TransformerScorer"
   ]
  },
  {
   "cell_type": "code",
   "execution_count": 9,
   "metadata": {},
   "outputs": [],
   "source": [
    "model = TransformerScorer('own_vit', imgpix=32)"
   ]
  },
  {
   "cell_type": "code",
   "execution_count": 11,
   "metadata": {},
   "outputs": [],
   "source": [
    "model_unit = (\"own_vit\", \".mlp_head.Linear1\", 0)"
   ]
  },
  {
   "cell_type": "code",
   "execution_count": 12,
   "metadata": {},
   "outputs": [
    {
     "name": "stdout",
     "output_type": "stream",
     "text": [
      "Space dimension: 4096, Population size: 40, Select size:20, Optimization Parameters:\n",
      "Initial sigma: 3.000\n",
      "cc=0.001, cs=0.050, c1=0.000 damps=1.050\n"
     ]
    }
   ],
   "source": [
    "exp = TransformerEvolution(model_unit, imgsize=(32, 32))"
   ]
  },
  {
   "cell_type": "code",
   "execution_count": 13,
   "metadata": {},
   "outputs": [
    {
     "name": "stdout",
     "output_type": "stream",
     "text": [
      "synth img scores: mean -3.488 +- std 0.000\n",
      "step 0  time: total 0.64s | GAN visualize 0.57s   Transformers score 0.01s   optimizer step 0.06s\n",
      "sigma: 2.90\n",
      "synth img scores: mean -3.395 +- std 3.561\n",
      "step 1  time: total 0.16s | GAN visualize 0.08s   Transformers score 0.03s   optimizer step 0.04s\n",
      "sigma: 2.83\n",
      "synth img scores: mean -2.267 +- std 3.554\n",
      "step 2  time: total 0.21s | GAN visualize 0.09s   Transformers score 0.01s   optimizer step 0.10s\n",
      "sigma: 2.76\n",
      "synth img scores: mean -1.108 +- std 3.641\n",
      "step 3  time: total 0.13s | GAN visualize 0.06s   Transformers score 0.03s   optimizer step 0.04s\n",
      "sigma: 2.71\n",
      "synth img scores: mean -0.217 +- std 3.842\n",
      "step 4  time: total 0.12s | GAN visualize 0.06s   Transformers score 0.01s   optimizer step 0.04s\n",
      "sigma: 2.66\n",
      "synth img scores: mean 2.734 +- std 3.052\n",
      "step 5  time: total 0.12s | GAN visualize 0.06s   Transformers score 0.01s   optimizer step 0.05s\n",
      "sigma: 2.62\n",
      "synth img scores: mean 3.462 +- std 3.428\n",
      "step 6  time: total 0.11s | GAN visualize 0.05s   Transformers score 0.01s   optimizer step 0.04s\n",
      "sigma: 2.59\n",
      "synth img scores: mean 4.909 +- std 3.258\n",
      "step 7  time: total 0.10s | GAN visualize 0.05s   Transformers score 0.01s   optimizer step 0.04s\n",
      "sigma: 2.56\n",
      "synth img scores: mean 5.881 +- std 3.382\n",
      "step 8  time: total 0.10s | GAN visualize 0.05s   Transformers score 0.01s   optimizer step 0.04s\n",
      "sigma: 2.53\n",
      "synth img scores: mean 5.231 +- std 3.235\n",
      "step 9  time: total 0.12s | GAN visualize 0.07s   Transformers score 0.01s   optimizer step 0.04s\n",
      "sigma: 2.50\n",
      "synth img scores: mean 6.760 +- std 3.050\n",
      "step 10  time: total 0.10s | GAN visualize 0.05s   Transformers score 0.01s   optimizer step 0.04s\n",
      "sigma: 2.48\n",
      "A, Ainv update! Time cost: 0.38 s\n",
      "synth img scores: mean 7.876 +- std 3.219\n",
      "step 11  time: total 0.48s | GAN visualize 0.05s   Transformers score 0.01s   optimizer step 0.42s\n",
      "sigma: 2.47\n",
      "synth img scores: mean 8.693 +- std 3.316\n",
      "step 12  time: total 0.11s | GAN visualize 0.05s   Transformers score 0.01s   optimizer step 0.04s\n",
      "sigma: 2.45\n",
      "synth img scores: mean 9.271 +- std 2.667\n",
      "step 13  time: total 0.10s | GAN visualize 0.05s   Transformers score 0.01s   optimizer step 0.04s\n",
      "sigma: 2.44\n",
      "synth img scores: mean 10.427 +- std 2.657\n",
      "step 14  time: total 0.10s | GAN visualize 0.05s   Transformers score 0.01s   optimizer step 0.04s\n",
      "sigma: 2.42\n",
      "synth img scores: mean 10.746 +- std 2.434\n",
      "step 15  time: total 0.10s | GAN visualize 0.05s   Transformers score 0.01s   optimizer step 0.04s\n",
      "sigma: 2.41\n",
      "synth img scores: mean 11.005 +- std 2.717\n",
      "step 16  time: total 0.10s | GAN visualize 0.05s   Transformers score 0.01s   optimizer step 0.04s\n",
      "sigma: 2.40\n",
      "synth img scores: mean 11.861 +- std 2.407\n",
      "step 17  time: total 0.10s | GAN visualize 0.05s   Transformers score 0.01s   optimizer step 0.04s\n",
      "sigma: 2.39\n",
      "synth img scores: mean 12.813 +- std 2.775\n",
      "step 18  time: total 0.10s | GAN visualize 0.05s   Transformers score 0.01s   optimizer step 0.04s\n",
      "sigma: 2.38\n",
      "synth img scores: mean 13.477 +- std 1.707\n",
      "step 19  time: total 0.11s | GAN visualize 0.05s   Transformers score 0.01s   optimizer step 0.04s\n",
      "sigma: 2.37\n",
      "synth img scores: mean 13.930 +- std 1.772\n",
      "step 20  time: total 0.12s | GAN visualize 0.07s   Transformers score 0.01s   optimizer step 0.04s\n",
      "sigma: 2.37\n",
      "synth img scores: mean 14.195 +- std 2.190\n",
      "step 21  time: total 0.11s | GAN visualize 0.05s   Transformers score 0.01s   optimizer step 0.04s\n",
      "sigma: 2.36\n",
      "A, Ainv update! Time cost: 0.41 s\n",
      "synth img scores: mean 15.064 +- std 1.791\n",
      "step 22  time: total 0.51s | GAN visualize 0.05s   Transformers score 0.01s   optimizer step 0.45s\n",
      "sigma: 2.36\n",
      "synth img scores: mean 14.545 +- std 2.047\n",
      "step 23  time: total 0.10s | GAN visualize 0.05s   Transformers score 0.01s   optimizer step 0.04s\n",
      "sigma: 2.35\n",
      "synth img scores: mean 15.304 +- std 1.727\n",
      "step 24  time: total 0.12s | GAN visualize 0.07s   Transformers score 0.01s   optimizer step 0.04s\n",
      "sigma: 2.35\n",
      "synth img scores: mean 15.018 +- std 2.038\n",
      "step 25  time: total 0.10s | GAN visualize 0.05s   Transformers score 0.01s   optimizer step 0.04s\n",
      "sigma: 2.35\n",
      "synth img scores: mean 16.032 +- std 2.011\n",
      "step 26  time: total 0.10s | GAN visualize 0.05s   Transformers score 0.01s   optimizer step 0.04s\n",
      "sigma: 2.35\n",
      "synth img scores: mean 16.378 +- std 1.501\n",
      "step 27  time: total 0.10s | GAN visualize 0.05s   Transformers score 0.01s   optimizer step 0.04s\n",
      "sigma: 2.34\n",
      "synth img scores: mean 16.562 +- std 1.422\n",
      "step 28  time: total 0.10s | GAN visualize 0.05s   Transformers score 0.01s   optimizer step 0.04s\n",
      "sigma: 2.34\n",
      "synth img scores: mean 16.470 +- std 1.417\n",
      "step 29  time: total 0.10s | GAN visualize 0.05s   Transformers score 0.01s   optimizer step 0.04s\n",
      "sigma: 2.34\n",
      "synth img scores: mean 16.659 +- std 1.393\n",
      "step 30  time: total 0.10s | GAN visualize 0.05s   Transformers score 0.01s   optimizer step 0.04s\n",
      "sigma: 2.34\n",
      "synth img scores: mean 16.235 +- std 1.543\n",
      "step 31  time: total 0.12s | GAN visualize 0.07s   Transformers score 0.01s   optimizer step 0.04s\n",
      "sigma: 2.33\n",
      "synth img scores: mean 16.422 +- std 1.258\n",
      "step 32  time: total 0.12s | GAN visualize 0.07s   Transformers score 0.01s   optimizer step 0.04s\n",
      "sigma: 2.33\n",
      "A, Ainv update! Time cost: 0.42 s\n",
      "synth img scores: mean 17.132 +- std 1.261\n",
      "step 33  time: total 0.54s | GAN visualize 0.07s   Transformers score 0.01s   optimizer step 0.46s\n",
      "sigma: 2.33\n",
      "synth img scores: mean 16.396 +- std 2.095\n",
      "step 34  time: total 0.11s | GAN visualize 0.05s   Transformers score 0.01s   optimizer step 0.05s\n",
      "sigma: 2.33\n",
      "synth img scores: mean 16.947 +- std 1.340\n",
      "step 35  time: total 0.16s | GAN visualize 0.07s   Transformers score 0.01s   optimizer step 0.08s\n",
      "sigma: 2.33\n",
      "synth img scores: mean 16.662 +- std 1.572\n",
      "step 36  time: total 0.12s | GAN visualize 0.06s   Transformers score 0.01s   optimizer step 0.05s\n",
      "sigma: 2.33\n",
      "synth img scores: mean 17.026 +- std 1.413\n",
      "step 37  time: total 0.16s | GAN visualize 0.05s   Transformers score 0.01s   optimizer step 0.10s\n",
      "sigma: 2.33\n",
      "synth img scores: mean 17.431 +- std 1.521\n",
      "step 38  time: total 0.11s | GAN visualize 0.05s   Transformers score 0.01s   optimizer step 0.05s\n",
      "sigma: 2.33\n",
      "synth img scores: mean 17.638 +- std 1.344\n",
      "step 39  time: total 0.13s | GAN visualize 0.07s   Transformers score 0.01s   optimizer step 0.05s\n",
      "sigma: 2.33\n",
      "synth img scores: mean 17.158 +- std 1.974\n",
      "step 40  time: total 0.11s | GAN visualize 0.05s   Transformers score 0.01s   optimizer step 0.05s\n",
      "sigma: 2.33\n",
      "synth img scores: mean 17.504 +- std 1.099\n",
      "step 41  time: total 0.11s | GAN visualize 0.05s   Transformers score 0.01s   optimizer step 0.05s\n",
      "sigma: 2.33\n",
      "synth img scores: mean 17.498 +- std 1.459\n",
      "step 42  time: total 0.11s | GAN visualize 0.05s   Transformers score 0.01s   optimizer step 0.05s\n",
      "sigma: 2.33\n",
      "synth img scores: mean 17.622 +- std 1.084\n",
      "step 43  time: total 0.13s | GAN visualize 0.07s   Transformers score 0.01s   optimizer step 0.05s\n",
      "sigma: 2.32\n",
      "A, Ainv update! Time cost: 0.42 s\n",
      "synth img scores: mean 17.394 +- std 1.395\n",
      "step 44  time: total 0.54s | GAN visualize 0.07s   Transformers score 0.01s   optimizer step 0.46s\n",
      "sigma: 2.32\n",
      "synth img scores: mean 17.708 +- std 1.546\n",
      "step 45  time: total 0.11s | GAN visualize 0.07s   Transformers score 0.01s   optimizer step 0.04s\n",
      "sigma: 2.33\n",
      "synth img scores: mean 17.539 +- std 1.634\n",
      "step 46  time: total 0.11s | GAN visualize 0.07s   Transformers score 0.01s   optimizer step 0.04s\n",
      "sigma: 2.32\n",
      "synth img scores: mean 18.111 +- std 1.136\n",
      "step 47  time: total 0.10s | GAN visualize 0.05s   Transformers score 0.01s   optimizer step 0.04s\n",
      "sigma: 2.32\n",
      "synth img scores: mean 18.041 +- std 1.065\n",
      "step 48  time: total 0.10s | GAN visualize 0.05s   Transformers score 0.01s   optimizer step 0.04s\n",
      "sigma: 2.32\n",
      "synth img scores: mean 18.287 +- std 1.144\n",
      "step 49  time: total 0.11s | GAN visualize 0.07s   Transformers score 0.01s   optimizer step 0.04s\n",
      "sigma: 2.32\n",
      "synth img scores: mean 18.452 +- std 1.425\n",
      "step 50  time: total 0.10s | GAN visualize 0.05s   Transformers score 0.01s   optimizer step 0.04s\n",
      "sigma: 2.32\n",
      "synth img scores: mean 18.115 +- std 1.133\n",
      "step 51  time: total 0.12s | GAN visualize 0.07s   Transformers score 0.01s   optimizer step 0.04s\n",
      "sigma: 2.32\n",
      "synth img scores: mean 18.415 +- std 1.270\n",
      "step 52  time: total 0.11s | GAN visualize 0.07s   Transformers score 0.01s   optimizer step 0.04s\n",
      "sigma: 2.32\n",
      "synth img scores: mean 18.527 +- std 1.328\n",
      "step 53  time: total 0.13s | GAN visualize 0.07s   Transformers score 0.01s   optimizer step 0.05s\n",
      "sigma: 2.32\n",
      "synth img scores: mean 18.656 +- std 1.177\n",
      "step 54  time: total 0.10s | GAN visualize 0.05s   Transformers score 0.01s   optimizer step 0.04s\n",
      "sigma: 2.32\n",
      "A, Ainv update! Time cost: 0.43 s\n",
      "synth img scores: mean 18.764 +- std 1.198\n",
      "step 55  time: total 0.53s | GAN visualize 0.05s   Transformers score 0.01s   optimizer step 0.47s\n",
      "sigma: 2.31\n",
      "synth img scores: mean 18.867 +- std 1.097\n",
      "step 56  time: total 0.11s | GAN visualize 0.05s   Transformers score 0.02s   optimizer step 0.04s\n",
      "sigma: 2.31\n",
      "synth img scores: mean 18.827 +- std 1.157\n",
      "step 57  time: total 0.12s | GAN visualize 0.07s   Transformers score 0.01s   optimizer step 0.04s\n",
      "sigma: 2.31\n",
      "synth img scores: mean 19.038 +- std 1.137\n",
      "step 58  time: total 0.11s | GAN visualize 0.07s   Transformers score 0.01s   optimizer step 0.04s\n",
      "sigma: 2.31\n",
      "synth img scores: mean 18.922 +- std 0.988\n",
      "step 59  time: total 0.10s | GAN visualize 0.05s   Transformers score 0.01s   optimizer step 0.04s\n",
      "sigma: 2.31\n",
      "synth img scores: mean 19.517 +- std 0.792\n",
      "step 60  time: total 0.10s | GAN visualize 0.05s   Transformers score 0.01s   optimizer step 0.04s\n",
      "sigma: 2.31\n",
      "synth img scores: mean 19.487 +- std 0.915\n",
      "step 61  time: total 0.10s | GAN visualize 0.05s   Transformers score 0.01s   optimizer step 0.04s\n",
      "sigma: 2.31\n",
      "synth img scores: mean 19.173 +- std 0.994\n",
      "step 62  time: total 0.10s | GAN visualize 0.05s   Transformers score 0.01s   optimizer step 0.04s\n",
      "sigma: 2.31\n",
      "synth img scores: mean 19.148 +- std 1.097\n",
      "step 63  time: total 0.11s | GAN visualize 0.05s   Transformers score 0.01s   optimizer step 0.05s\n",
      "sigma: 2.31\n",
      "synth img scores: mean 19.339 +- std 0.841\n",
      "step 64  time: total 0.10s | GAN visualize 0.05s   Transformers score 0.01s   optimizer step 0.04s\n",
      "sigma: 2.31\n",
      "synth img scores: mean 19.491 +- std 0.787\n",
      "step 65  time: total 0.10s | GAN visualize 0.05s   Transformers score 0.01s   optimizer step 0.04s\n",
      "sigma: 2.31\n",
      "A, Ainv update! Time cost: 0.41 s\n",
      "synth img scores: mean 19.295 +- std 1.039\n",
      "step 66  time: total 0.51s | GAN visualize 0.05s   Transformers score 0.01s   optimizer step 0.45s\n",
      "sigma: 2.31\n",
      "synth img scores: mean 19.483 +- std 1.146\n",
      "step 67  time: total 0.10s | GAN visualize 0.05s   Transformers score 0.01s   optimizer step 0.04s\n",
      "sigma: 2.31\n",
      "synth img scores: mean 19.783 +- std 0.825\n",
      "step 68  time: total 0.10s | GAN visualize 0.05s   Transformers score 0.01s   optimizer step 0.04s\n",
      "sigma: 2.31\n",
      "synth img scores: mean 19.516 +- std 1.219\n",
      "step 69  time: total 0.10s | GAN visualize 0.05s   Transformers score 0.01s   optimizer step 0.04s\n",
      "sigma: 2.31\n",
      "synth img scores: mean 19.810 +- std 0.864\n",
      "step 70  time: total 0.10s | GAN visualize 0.05s   Transformers score 0.01s   optimizer step 0.04s\n",
      "sigma: 2.31\n",
      "synth img scores: mean 19.175 +- std 1.388\n",
      "step 71  time: total 0.10s | GAN visualize 0.05s   Transformers score 0.01s   optimizer step 0.04s\n",
      "sigma: 2.31\n",
      "synth img scores: mean 19.913 +- std 0.951\n",
      "step 72  time: total 0.09s | GAN visualize 0.05s   Transformers score 0.01s   optimizer step 0.04s\n",
      "sigma: 2.31\n",
      "synth img scores: mean 20.102 +- std 0.509\n",
      "step 73  time: total 0.10s | GAN visualize 0.05s   Transformers score 0.01s   optimizer step 0.04s\n",
      "sigma: 2.31\n",
      "synth img scores: mean 19.703 +- std 0.897\n",
      "step 74  time: total 0.10s | GAN visualize 0.05s   Transformers score 0.01s   optimizer step 0.04s\n",
      "sigma: 2.31\n",
      "synth img scores: mean 19.586 +- std 0.884\n",
      "step 75  time: total 0.10s | GAN visualize 0.05s   Transformers score 0.01s   optimizer step 0.04s\n",
      "sigma: 2.31\n",
      "synth img scores: mean 19.513 +- std 1.192\n",
      "step 76  time: total 0.09s | GAN visualize 0.05s   Transformers score 0.01s   optimizer step 0.04s\n",
      "sigma: 2.31\n",
      "A, Ainv update! Time cost: 0.41 s\n",
      "synth img scores: mean 19.810 +- std 0.951\n",
      "step 77  time: total 0.51s | GAN visualize 0.05s   Transformers score 0.01s   optimizer step 0.45s\n",
      "sigma: 2.31\n",
      "synth img scores: mean 19.634 +- std 1.047\n",
      "step 78  time: total 0.10s | GAN visualize 0.05s   Transformers score 0.01s   optimizer step 0.04s\n",
      "sigma: 2.31\n",
      "synth img scores: mean 19.780 +- std 0.912\n",
      "step 79  time: total 0.10s | GAN visualize 0.05s   Transformers score 0.01s   optimizer step 0.04s\n",
      "sigma: 2.31\n",
      "synth img scores: mean 19.312 +- std 1.318\n",
      "step 80  time: total 0.10s | GAN visualize 0.05s   Transformers score 0.01s   optimizer step 0.04s\n",
      "sigma: 2.31\n",
      "synth img scores: mean 19.846 +- std 0.787\n",
      "step 81  time: total 0.10s | GAN visualize 0.05s   Transformers score 0.01s   optimizer step 0.04s\n",
      "sigma: 2.31\n",
      "synth img scores: mean 19.886 +- std 0.885\n",
      "step 82  time: total 0.10s | GAN visualize 0.05s   Transformers score 0.01s   optimizer step 0.04s\n",
      "sigma: 2.31\n",
      "synth img scores: mean 19.909 +- std 0.762\n",
      "step 83  time: total 0.10s | GAN visualize 0.05s   Transformers score 0.01s   optimizer step 0.04s\n",
      "sigma: 2.31\n",
      "synth img scores: mean 19.915 +- std 0.929\n",
      "step 84  time: total 0.10s | GAN visualize 0.05s   Transformers score 0.01s   optimizer step 0.04s\n",
      "sigma: 2.31\n",
      "synth img scores: mean 20.123 +- std 1.108\n",
      "step 85  time: total 0.10s | GAN visualize 0.05s   Transformers score 0.01s   optimizer step 0.04s\n",
      "sigma: 2.31\n",
      "synth img scores: mean 20.180 +- std 0.814\n",
      "step 86  time: total 0.10s | GAN visualize 0.05s   Transformers score 0.01s   optimizer step 0.04s\n",
      "sigma: 2.31\n",
      "synth img scores: mean 20.263 +- std 0.886\n",
      "step 87  time: total 0.10s | GAN visualize 0.05s   Transformers score 0.02s   optimizer step 0.04s\n",
      "sigma: 2.31\n",
      "A, Ainv update! Time cost: 0.42 s\n",
      "synth img scores: mean 20.288 +- std 0.694\n",
      "step 88  time: total 0.52s | GAN visualize 0.05s   Transformers score 0.01s   optimizer step 0.46s\n",
      "sigma: 2.31\n",
      "synth img scores: mean 20.415 +- std 0.732\n",
      "step 89  time: total 0.10s | GAN visualize 0.05s   Transformers score 0.01s   optimizer step 0.04s\n",
      "sigma: 2.31\n",
      "synth img scores: mean 20.383 +- std 1.162\n",
      "step 90  time: total 0.10s | GAN visualize 0.05s   Transformers score 0.01s   optimizer step 0.04s\n",
      "sigma: 2.31\n",
      "synth img scores: mean 20.369 +- std 0.696\n",
      "step 91  time: total 0.10s | GAN visualize 0.05s   Transformers score 0.01s   optimizer step 0.04s\n",
      "sigma: 2.31\n",
      "synth img scores: mean 20.178 +- std 0.935\n",
      "step 92  time: total 0.10s | GAN visualize 0.05s   Transformers score 0.01s   optimizer step 0.04s\n",
      "sigma: 2.32\n",
      "synth img scores: mean 20.483 +- std 0.826\n",
      "step 93  time: total 0.10s | GAN visualize 0.05s   Transformers score 0.01s   optimizer step 0.04s\n",
      "sigma: 2.32\n",
      "synth img scores: mean 20.344 +- std 0.720\n",
      "step 94  time: total 0.10s | GAN visualize 0.05s   Transformers score 0.01s   optimizer step 0.04s\n",
      "sigma: 2.32\n",
      "synth img scores: mean 20.204 +- std 0.727\n",
      "step 95  time: total 0.10s | GAN visualize 0.05s   Transformers score 0.01s   optimizer step 0.04s\n",
      "sigma: 2.32\n",
      "synth img scores: mean 20.018 +- std 0.953\n",
      "step 96  time: total 0.10s | GAN visualize 0.05s   Transformers score 0.01s   optimizer step 0.04s\n",
      "sigma: 2.32\n",
      "synth img scores: mean 20.429 +- std 0.621\n",
      "step 97  time: total 0.10s | GAN visualize 0.05s   Transformers score 0.01s   optimizer step 0.04s\n",
      "sigma: 2.32\n",
      "synth img scores: mean 20.471 +- std 0.660\n",
      "step 98  time: total 0.10s | GAN visualize 0.05s   Transformers score 0.01s   optimizer step 0.04s\n",
      "sigma: 2.31\n",
      "A, Ainv update! Time cost: 0.41 s\n",
      "synth img scores: mean 20.525 +- std 0.773\n",
      "step 99  time: total 0.51s | GAN visualize 0.05s   Transformers score 0.01s   optimizer step 0.45s\n"
     ]
    }
   ],
   "source": [
    "exp.run()"
   ]
  },
  {
   "cell_type": "code",
   "execution_count": 14,
   "metadata": {},
   "outputs": [],
   "source": [
    "idx = np.argmax(exp.scores_all)\n",
    "select_code = exp.codes_all[idx : idx + 1, :]\n",
    "score_select = exp.scores_all[idx]\n",
    "img_select = exp.render_tsr(select_code)\n",
    "resize_select = resize_and_pad_tsr(img_select, exp.imgsize, exp.corner, canvas_size=(32, 32))\n",
    "resize_select = resize_select.cpu().squeeze().permute((1, 2, 0)).numpy()"
   ]
  },
  {
   "cell_type": "code",
   "execution_count": 15,
   "metadata": {},
   "outputs": [
    {
     "data": {
      "image/png": "[encoded data removed]",
      "text/plain": [
       "<Figure size 432x288 with 1 Axes>"
      ]
     },
     "metadata": {
      "needs_background": "light"
     },
     "output_type": "display_data"
    }
   ],
   "source": [
    "plt.imshow(resize_select)\n",
    "plt.axis('off')\n",
    "plt.show()"
   ]
  },
  {
   "attachments": {},
   "cell_type": "markdown",
   "metadata": {},
   "source": [
    "Test super activation"
   ]
  },
  {
   "cell_type": "code",
   "execution_count": 26,
   "metadata": {},
   "outputs": [],
   "source": [
    "# Load the CIFAR10 dataset\n",
    "from torchvision.datasets import CIFAR10\n",
    "from torchvision import transforms"
   ]
  },
  {
   "cell_type": "code",
   "execution_count": 31,
   "metadata": {},
   "outputs": [
    {
     "name": "stdout",
     "output_type": "stream",
     "text": [
      "Files already downloaded and verified\n"
     ]
    }
   ],
   "source": [
    "train_transform = transforms.Compose([transforms.ToTensor()])\n",
    "train_set = CIFAR10(root=\"./data\", train=True, download=True, transform=train_transform)\n",
    "train_loader = torch.utils.data.DataLoader(train_set, batch_size=1, shuffle=False, num_workers=4)"
   ]
  },
  {
   "cell_type": "code",
   "execution_count": 43,
   "metadata": {},
   "outputs": [],
   "source": [
    "from tqdm import tqdm"
   ]
  },
  {
   "cell_type": "code",
   "execution_count": 44,
   "metadata": {},
   "outputs": [
    {
     "name": "stderr",
     "output_type": "stream",
     "text": [
      "100%|██████████| 50000/50000 [01:33<00:00, 534.81it/s]\n"
     ]
    }
   ],
   "source": [
    "# Get a certain class of images\n",
    "class_idx = 0\n",
    "airplanes = []\n",
    "for (x, y) in tqdm(train_loader):\n",
    "    if y == class_idx:\n",
    "        airplanes.append(x)"
   ]
  },
  {
   "cell_type": "code",
   "execution_count": 48,
   "metadata": {},
   "outputs": [],
   "source": [
    "airplanes_tsr = torch.cat(airplanes)"
   ]
  },
  {
   "cell_type": "code",
   "execution_count": 50,
   "metadata": {},
   "outputs": [],
   "source": [
    "# Calculate the scores of the images\n",
    "from transformers.tf_exp import TransformerScorer\n",
    "model = TransformerScorer('own_vit', imgpix=32)\n",
    "model.select_unit(model_unit)"
   ]
  },
  {
   "cell_type": "code",
   "execution_count": 52,
   "metadata": {},
   "outputs": [],
   "source": [
    "scores = model.score_tsr(airplanes_tsr)"
   ]
  },
  {
   "cell_type": "code",
   "execution_count": 54,
   "metadata": {},
   "outputs": [
    {
     "data": {
      "text/plain": [
       "(32, 32, 3)"
      ]
     },
     "execution_count": 54,
     "metadata": {},
     "output_type": "execute_result"
    }
   ],
   "source": [
    "resize_select.shape"
   ]
  },
  {
   "cell_type": "code",
   "execution_count": 55,
   "metadata": {},
   "outputs": [
    {
     "data": {
      "text/plain": [
       "array([21.85589981])"
      ]
     },
     "execution_count": 55,
     "metadata": {},
     "output_type": "execute_result"
    }
   ],
   "source": [
    "# Get the score of the generated image\n",
    "syn_tsr = torch.Tensor(resize_select).permute((2, 0, 1)).unsqueeze(0)\n",
    "syn_score = model.score_tsr(syn_tsr)\n",
    "syn_score"
   ]
  },
  {
   "cell_type": "code",
   "execution_count": 56,
   "metadata": {},
   "outputs": [],
   "source": [
    "# Save the scores of the natural images into a csv file\n",
    "import pandas as pd\n",
    "df = pd.DataFrame(scores, columns=['nature_score'])\n",
    "df.to_csv('./results/own_vit/airplane_own_vit_nature.csv')"
   ]
  }
 ],
 "metadata": {
  "kernelspec": {
   "display_name": "Python 3",
   "language": "python",
   "name": "python3"
  },
  "language_info": {
   "codemirror_mode": {
    "name": "ipython",
    "version": 3
   },
   "file_extension": ".py",
   "mimetype": "text/x-python",
   "name": "python",
   "nbconvert_exporter": "python",
   "pygments_lexer": "ipython3",
   "version": "3.8.10"
  },
  "orig_nbformat": 4,
  "vscode": {
   "interpreter": {
    "hash": "31f2aee4e71d21fbe5cf8b01ff0e069b9275f58929596ceb00d14d90e3e16cd6"
   }
  }
 },
 "nbformat": 4,
 "nbformat_minor": 2
}
