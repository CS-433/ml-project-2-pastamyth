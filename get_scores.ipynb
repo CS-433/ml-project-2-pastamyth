{
 "cells": [
  {
   "cell_type": "code",
   "execution_count": 1,
   "metadata": {},
   "outputs": [],
   "source": [
    "import torch\n",
    "import skimage\n",
    "import matplotlib.pyplot as plt\n",
    "import os\n",
    "from torchvision import models"
   ]
  },
  {
   "cell_type": "code",
   "execution_count": 2,
   "metadata": {},
   "outputs": [],
   "source": [
    "import pandas as pd\n",
    "from tqdm import tqdm"
   ]
  },
  {
   "cell_type": "code",
   "execution_count": 3,
   "metadata": {},
   "outputs": [],
   "source": [
    "from core.CNN_scorers import TorchScorer\n",
    "from core.insilico_exps import resize_and_pad_tsr"
   ]
  },
  {
   "cell_type": "code",
   "execution_count": 4,
   "metadata": {},
   "outputs": [],
   "source": [
    "class ImageLoader(object):\n",
    "    def __init__(self, datapath) -> None:\n",
    "        self.datapath = datapath\n",
    "        self._flies_df = pd.DataFrame(columns=['File', 'Shape'])\n",
    "        self._num_imgs = 0\n",
    "        self.imgs = torch.Tensor([])\n",
    "    \n",
    "    @staticmethod\n",
    "    def preprocess(img):\n",
    "        img_tensor = torch.Tensor(img).permute((2, 0, 1)).unsqueeze(dim=0)\n",
    "        img_new = resize_and_pad_tsr(img_tensor, (224, 224), (0, 0))\n",
    "        return img_new\n",
    "\n",
    "    def load(self):\n",
    "        list_of_files = []\n",
    "        for root, dirs, files in os.walk(self.datapath):\n",
    "            for file in files:\n",
    "                list_of_files.append(os.path.join(root, file))\n",
    "        for name in tqdm(list_of_files):\n",
    "            img = skimage.io.imread(name)\n",
    "            shape_tmp = img.shape\n",
    "            dic_tmp = {\n",
    "                'File': [name],\n",
    "                'Shape': [str(shape_tmp)]\n",
    "            }\n",
    "            df_tmp = pd.DataFrame(data=dic_tmp)\n",
    "            self._flies_df = pd.concat([self._flies_df, df_tmp], axis=0)\n",
    "\n",
    "            img_processed = self.preprocess(img.copy())\n",
    "            self.imgs = torch.concat([self.imgs, img_processed])\n",
    "        self._num_imgs = self.imgs.shape[0]\n",
    "        return self._num_imgs\n",
    "\n",
    "    def get_imgs(self):\n",
    "        return self.imgs"
   ]
  },
  {
   "cell_type": "code",
   "execution_count": 5,
   "metadata": {},
   "outputs": [],
   "source": [
    "datapath = '../../Datasets/imagenette2/train/n01440764'"
   ]
  },
  {
   "cell_type": "code",
   "execution_count": 6,
   "metadata": {},
   "outputs": [],
   "source": [
    "imloader = ImageLoader(datapath)"
   ]
  },
  {
   "cell_type": "code",
   "execution_count": 7,
   "metadata": {},
   "outputs": [
    {
     "name": "stderr",
     "output_type": "stream",
     "text": [
      "100%|██████████| 963/963 [01:00<00:00, 15.84it/s]\n"
     ]
    },
    {
     "data": {
      "text/plain": [
       "963"
      ]
     },
     "execution_count": 7,
     "metadata": {},
     "output_type": "execute_result"
    }
   ],
   "source": [
    "imloader.load()"
   ]
  },
  {
   "cell_type": "code",
   "execution_count": 8,
   "metadata": {},
   "outputs": [],
   "source": [
    "imgs = imloader.get_imgs()"
   ]
  },
  {
   "cell_type": "code",
   "execution_count": 9,
   "metadata": {},
   "outputs": [
    {
     "data": {
      "text/plain": [
       "torch.Size([963, 3, 224, 224])"
      ]
     },
     "execution_count": 9,
     "metadata": {},
     "output_type": "execute_result"
    }
   ],
   "source": [
    "imgs.shape"
   ]
  },
  {
   "cell_type": "code",
   "execution_count": 10,
   "metadata": {},
   "outputs": [],
   "source": [
    "model = TorchScorer(model_name='vit_b_16')"
   ]
  },
  {
   "cell_type": "code",
   "execution_count": 11,
   "metadata": {},
   "outputs": [],
   "source": [
    "model_unit = (\"vit_b_16\", \".heads.Linearhead\", 0)\n",
    "model.select_unit(model_unit)"
   ]
  },
  {
   "cell_type": "code",
   "execution_count": 26,
   "metadata": {},
   "outputs": [],
   "source": [
    "scores = model.score_tsr(imgs / 255.)"
   ]
  },
  {
   "cell_type": "code",
   "execution_count": 27,
   "metadata": {},
   "outputs": [
    {
     "data": {
      "text/plain": [
       "(array([  2.,   0.,   0.,   3.,   2.,   7.,   8.,  30., 704., 207.]),\n",
       " array([ 0.41302833,  1.38608898,  2.35914962,  3.33221027,  4.30527092,\n",
       "         5.27833156,  6.25139221,  7.22445286,  8.1975135 ,  9.17057415,\n",
       "        10.1436348 ]),\n",
       " <BarContainer object of 10 artists>)"
      ]
     },
     "execution_count": 27,
     "metadata": {},
     "output_type": "execute_result"
    },
    {
     "data": {
      "image/png": "[encoded data removed]",
      "text/plain": [
       "<Figure size 432x288 with 1 Axes>"
      ]
     },
     "metadata": {
      "needs_background": "light"
     },
     "output_type": "display_data"
    }
   ],
   "source": [
    "plt.hist(scores)"
   ]
  },
  {
   "cell_type": "code",
   "execution_count": 28,
   "metadata": {},
   "outputs": [],
   "source": [
    "img_generated = plt.imread('../ActMax-Optimizer-Dev/tmp/Best_vit_b_16_exp.png')"
   ]
  },
  {
   "cell_type": "code",
   "execution_count": 29,
   "metadata": {},
   "outputs": [
    {
     "data": {
      "text/plain": [
       "(224, 224, 3)"
      ]
     },
     "execution_count": 29,
     "metadata": {},
     "output_type": "execute_result"
    }
   ],
   "source": [
    "img_generated = img_generated[:, :, :3]\n",
    "img_generated.shape"
   ]
  },
  {
   "cell_type": "code",
   "execution_count": 30,
   "metadata": {},
   "outputs": [
    {
     "data": {
      "text/plain": [
       "torch.Size([1, 3, 224, 224])"
      ]
     },
     "execution_count": 30,
     "metadata": {},
     "output_type": "execute_result"
    }
   ],
   "source": [
    "img_generated = torch.Tensor(img_generated).permute((2, 0, 1)).unsqueeze(dim=0)\n",
    "img_generated.shape"
   ]
  },
  {
   "cell_type": "code",
   "execution_count": 31,
   "metadata": {},
   "outputs": [],
   "source": [
    "model_unit = (\"vit_b_16\", \".heads.Linearhead\", 0)\n",
    "model.select_unit(model_unit)"
   ]
  },
  {
   "cell_type": "code",
   "execution_count": 33,
   "metadata": {},
   "outputs": [
    {
     "data": {
      "text/plain": [
       "array([11.30440044])"
      ]
     },
     "execution_count": 33,
     "metadata": {},
     "output_type": "execute_result"
    }
   ],
   "source": [
    "model.score_tsr(img_generated)"
   ]
  },
  {
   "cell_type": "code",
   "execution_count": null,
   "metadata": {},
   "outputs": [],
   "source": []
  }
 ],
 "metadata": {
  "kernelspec": {
   "display_name": "Python 3",
   "language": "python",
   "name": "python3"
  },
  "language_info": {
   "codemirror_mode": {
    "name": "ipython",
    "version": 3
   },
   "file_extension": ".py",
   "mimetype": "text/x-python",
   "name": "python",
   "nbconvert_exporter": "python",
   "pygments_lexer": "ipython3",
   "version": "3.8.10"
  },
  "orig_nbformat": 4,
  "vscode": {
   "interpreter": {
    "hash": "31f2aee4e71d21fbe5cf8b01ff0e069b9275f58929596ceb00d14d90e3e16cd6"
   }
  }
 },
 "nbformat": 4,
 "nbformat_minor": 2
}
